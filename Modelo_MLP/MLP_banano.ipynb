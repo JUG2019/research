{
 "cells": [
  {
   "cell_type": "code",
   "execution_count": 2,
   "metadata": {},
   "outputs": [],
   "source": [
    "# mlp for binary classification\n",
    "\n",
    "import pandas as pd\n",
    "import seaborn as sns\n",
    "import numpy as np\n",
    "import pydot\n",
    "from scipy import stats\n",
    "import matplotlib.pyplot as plt\n",
    "import seaborn as sn\n",
    "from plotnine import *\n",
    "\n",
    "import sklearn\n",
    "#from sklearn.metrics import confusion_matrix\n",
    "from sklearn.model_selection import train_test_split\n",
    "from sklearn.preprocessing import LabelEncoder\n",
    "from sklearn.utils.multiclass import unique_labels\n",
    "from sklearn.metrics import classification_report, confusion_matrix, accuracy_score, precision_score, recall_score, f1_score, roc_auc_score, roc_curve, cohen_kappa_score\n",
    "\n",
    "#from sklearn.metrics import plot_confusion_matrix\n",
    "#from sklearn import datasets\n",
    "\n",
    "\n",
    "from tensorflow.keras import Sequential\n",
    "from tensorflow.keras.layers import Dense\n",
    "from tensorflow.keras.optimizers import SGD\n",
    "from tensorflow.keras.utils import plot_model\n",
    "from tensorflow.keras.callbacks import Callback\n",
    "from tensorflow.keras.models import load_model\n",
    "#from tensorflow.keras.layers import advanced_activations"
   ]
  },
  {
   "cell_type": "code",
   "execution_count": 4,
   "metadata": {},
   "outputs": [
    {
     "name": "stdout",
     "output_type": "stream",
     "text": [
      "The scikit-learn version is 0.21.2.\n"
     ]
    }
   ],
   "source": [
    "print('The scikit-learn version is {}.'.format(sklearn.__version__))\n"
   ]
  },
  {
   "cell_type": "code",
   "execution_count": 5,
   "metadata": {},
   "outputs": [],
   "source": [
    "def plot_confusion_matrix(y_true, y_pred, classes,\n",
    "                          normalize=False,\n",
    "                          title=None,\n",
    "                          cmap=plt.cm.Blues):\n",
    "    \"\"\"\n",
    "    This function prints and plots the confusion matrix.\n",
    "    Normalization can be applied by setting `normalize=True`.\n",
    "    \"\"\"\n",
    "    if not title:\n",
    "        if normalize:\n",
    "            title = 'Normalized confusion matrix'\n",
    "        else:\n",
    "            title = 'Confusion matrix, without normalization'\n",
    "\n",
    "    # Compute confusion matrix\n",
    "    cm = confusion_matrix(y_true, y_pred)\n",
    "    # Only use the labels that appear in the data\n",
    "    classes = classes[unique_labels(y_true, y_pred)]\n",
    "    if normalize:\n",
    "        cm = cm.astype('float') / cm.sum(axis=1)[:, np.newaxis]\n",
    "        print(\"Normalized confusion matrix\")\n",
    "    else:\n",
    "        print('Confusion matrix, without normalization')\n",
    "\n",
    "    print(cm)\n",
    "\n",
    "    fig, ax = plt.subplots()\n",
    "    im = ax.imshow(cm, interpolation='nearest', cmap=cmap)\n",
    "    ax.figure.colorbar(im, ax=ax)\n",
    "    # We want to show all ticks...\n",
    "    ax.set(xticks=np.arange(cm.shape[1]),\n",
    "           yticks=np.arange(cm.shape[0]),\n",
    "           # ... and label them with the respective list entries\n",
    "           xticklabels=classes, yticklabels=classes,\n",
    "           title=title,\n",
    "           ylabel='True label',\n",
    "           xlabel='Predicted label')\n",
    "\n",
    "    # Rotate the tick labels and set their alignment.\n",
    "    plt.setp(ax.get_xticklabels(), rotation=45, ha=\"right\",\n",
    "             rotation_mode=\"anchor\")\n",
    "\n",
    "    # Loop over data dimensions and create text annotations.\n",
    "    fmt = '.2f' if normalize else 'd'\n",
    "    thresh = cm.max() / 2.\n",
    "    for i in range(cm.shape[0]):\n",
    "        for j in range(cm.shape[1]):\n",
    "            ax.text(j, i, format(cm[i, j], fmt),\n",
    "                    ha=\"center\", va=\"center\",\n",
    "                    color=\"white\" if cm[i, j] > thresh else \"black\")\n",
    "    fig.tight_layout()\n",
    "    return ax\n",
    "\n",
    "\n"
   ]
  },
  {
   "cell_type": "code",
   "execution_count": 6,
   "metadata": {},
   "outputs": [],
   "source": [
    "#load data \n",
    "dir_file1= \"D:/ugarte/datos/datos ban 03 2019/\"\n",
    "datos = pd.read_csv(\"D:/ugarte/datos/datos ban 03 2019/datos032019.csv\", header = None, encoding=\"ISO-8859-1\")\n",
    "\n",
    "dir_file2= \"D:/ugarte/datos/datos ban 03 2019 adicionales/\"\n",
    "datos_add = pd.read_csv(\"D:/ugarte/datos/datos ban 03 2019 adicionales/datos_add_03_2019.csv\", header= None, encoding=\"ISO-8859-1\")"
   ]
  },
  {
   "cell_type": "code",
   "execution_count": 7,
   "metadata": {},
   "outputs": [
    {
     "name": "stdout",
     "output_type": "stream",
     "text": [
      "There are 136 observations and 527 features\n"
     ]
    }
   ],
   "source": [
    "print(f'There are {datos.shape[0]} observations and {datos.shape[1]} features')"
   ]
  },
  {
   "cell_type": "code",
   "execution_count": 8,
   "metadata": {},
   "outputs": [
    {
     "data": {
      "text/html": [
       "<div>\n",
       "<style scoped>\n",
       "    .dataframe tbody tr th:only-of-type {\n",
       "        vertical-align: middle;\n",
       "    }\n",
       "\n",
       "    .dataframe tbody tr th {\n",
       "        vertical-align: top;\n",
       "    }\n",
       "\n",
       "    .dataframe thead th {\n",
       "        text-align: right;\n",
       "    }\n",
       "</style>\n",
       "<table border=\"1\" class=\"dataframe\">\n",
       "  <thead>\n",
       "    <tr style=\"text-align: right;\">\n",
       "      <th></th>\n",
       "      <th>0</th>\n",
       "      <th>1</th>\n",
       "      <th>2</th>\n",
       "      <th>3</th>\n",
       "      <th>4</th>\n",
       "      <th>5</th>\n",
       "      <th>6</th>\n",
       "      <th>7</th>\n",
       "      <th>8</th>\n",
       "      <th>9</th>\n",
       "      <th>...</th>\n",
       "      <th>517</th>\n",
       "      <th>518</th>\n",
       "      <th>519</th>\n",
       "      <th>520</th>\n",
       "      <th>521</th>\n",
       "      <th>522</th>\n",
       "      <th>523</th>\n",
       "      <th>524</th>\n",
       "      <th>525</th>\n",
       "      <th>526</th>\n",
       "    </tr>\n",
       "  </thead>\n",
       "  <tbody>\n",
       "    <tr>\n",
       "      <th>0</th>\n",
       "      <td>Experimento-2017-03-06 22-41-24</td>\n",
       "      <td>0</td>\n",
       "      <td>0</td>\n",
       "      <td>NaN</td>\n",
       "      <td>NaN</td>\n",
       "      <td>NaN</td>\n",
       "      <td>NaN</td>\n",
       "      <td>-1.39562</td>\n",
       "      <td>-1.30664</td>\n",
       "      <td>-1.24937</td>\n",
       "      <td>...</td>\n",
       "      <td>0.456231</td>\n",
       "      <td>0.443879</td>\n",
       "      <td>0.432634</td>\n",
       "      <td>0.427515</td>\n",
       "      <td>0.433340</td>\n",
       "      <td>0.421868</td>\n",
       "      <td>0.379341</td>\n",
       "      <td>0.292351</td>\n",
       "      <td>0.147487</td>\n",
       "      <td>-0.068658</td>\n",
       "    </tr>\n",
       "    <tr>\n",
       "      <th>1</th>\n",
       "      <td>Experimento-2017-03-06 22-46-23</td>\n",
       "      <td>0</td>\n",
       "      <td>0</td>\n",
       "      <td>NaN</td>\n",
       "      <td>NaN</td>\n",
       "      <td>NaN</td>\n",
       "      <td>NaN</td>\n",
       "      <td>-1.42109</td>\n",
       "      <td>-1.36845</td>\n",
       "      <td>-1.32830</td>\n",
       "      <td>...</td>\n",
       "      <td>0.425723</td>\n",
       "      <td>0.409881</td>\n",
       "      <td>0.396079</td>\n",
       "      <td>0.397572</td>\n",
       "      <td>0.398486</td>\n",
       "      <td>0.379157</td>\n",
       "      <td>0.316693</td>\n",
       "      <td>0.193333</td>\n",
       "      <td>-0.008684</td>\n",
       "      <td>-0.307117</td>\n",
       "    </tr>\n",
       "    <tr>\n",
       "      <th>2</th>\n",
       "      <td>Experimento-2017-03-06 22-53-36</td>\n",
       "      <td>0</td>\n",
       "      <td>0</td>\n",
       "      <td>NaN</td>\n",
       "      <td>NaN</td>\n",
       "      <td>NaN</td>\n",
       "      <td>NaN</td>\n",
       "      <td>-1.54161</td>\n",
       "      <td>-1.42342</td>\n",
       "      <td>-1.34301</td>\n",
       "      <td>...</td>\n",
       "      <td>0.400387</td>\n",
       "      <td>0.386088</td>\n",
       "      <td>0.378870</td>\n",
       "      <td>0.386314</td>\n",
       "      <td>0.370911</td>\n",
       "      <td>0.341893</td>\n",
       "      <td>0.270430</td>\n",
       "      <td>0.140535</td>\n",
       "      <td>-0.063779</td>\n",
       "      <td>-0.358497</td>\n",
       "    </tr>\n",
       "    <tr>\n",
       "      <th>3</th>\n",
       "      <td>Experimento-2017-03-06 22-59-21</td>\n",
       "      <td>0</td>\n",
       "      <td>0</td>\n",
       "      <td>NaN</td>\n",
       "      <td>NaN</td>\n",
       "      <td>NaN</td>\n",
       "      <td>NaN</td>\n",
       "      <td>-1.53054</td>\n",
       "      <td>-1.42613</td>\n",
       "      <td>-1.35777</td>\n",
       "      <td>...</td>\n",
       "      <td>0.390679</td>\n",
       "      <td>0.378349</td>\n",
       "      <td>0.365595</td>\n",
       "      <td>0.367024</td>\n",
       "      <td>0.372483</td>\n",
       "      <td>0.351041</td>\n",
       "      <td>0.282968</td>\n",
       "      <td>0.149842</td>\n",
       "      <td>-0.066760</td>\n",
       "      <td>-0.385260</td>\n",
       "    </tr>\n",
       "    <tr>\n",
       "      <th>4</th>\n",
       "      <td>Experimento-2017-03-06 23-04-04</td>\n",
       "      <td>0</td>\n",
       "      <td>0</td>\n",
       "      <td>NaN</td>\n",
       "      <td>NaN</td>\n",
       "      <td>NaN</td>\n",
       "      <td>NaN</td>\n",
       "      <td>-1.57307</td>\n",
       "      <td>-1.44454</td>\n",
       "      <td>-1.36082</td>\n",
       "      <td>...</td>\n",
       "      <td>0.396107</td>\n",
       "      <td>0.382752</td>\n",
       "      <td>0.369996</td>\n",
       "      <td>0.373659</td>\n",
       "      <td>0.367087</td>\n",
       "      <td>0.341704</td>\n",
       "      <td>0.274615</td>\n",
       "      <td>0.149738</td>\n",
       "      <td>-0.049007</td>\n",
       "      <td>-0.337702</td>\n",
       "    </tr>\n",
       "  </tbody>\n",
       "</table>\n",
       "<p>5 rows × 527 columns</p>\n",
       "</div>"
      ],
      "text/plain": [
       "                               0    1    2    3    4    5    6        7    \\\n",
       "0  Experimento-2017-03-06 22-41-24    0    0  NaN  NaN  NaN  NaN -1.39562   \n",
       "1  Experimento-2017-03-06 22-46-23    0    0  NaN  NaN  NaN  NaN -1.42109   \n",
       "2  Experimento-2017-03-06 22-53-36    0    0  NaN  NaN  NaN  NaN -1.54161   \n",
       "3  Experimento-2017-03-06 22-59-21    0    0  NaN  NaN  NaN  NaN -1.53054   \n",
       "4  Experimento-2017-03-06 23-04-04    0    0  NaN  NaN  NaN  NaN -1.57307   \n",
       "\n",
       "       8        9    ...       517       518       519       520       521  \\\n",
       "0 -1.30664 -1.24937  ...  0.456231  0.443879  0.432634  0.427515  0.433340   \n",
       "1 -1.36845 -1.32830  ...  0.425723  0.409881  0.396079  0.397572  0.398486   \n",
       "2 -1.42342 -1.34301  ...  0.400387  0.386088  0.378870  0.386314  0.370911   \n",
       "3 -1.42613 -1.35777  ...  0.390679  0.378349  0.365595  0.367024  0.372483   \n",
       "4 -1.44454 -1.36082  ...  0.396107  0.382752  0.369996  0.373659  0.367087   \n",
       "\n",
       "        522       523       524       525       526  \n",
       "0  0.421868  0.379341  0.292351  0.147487 -0.068658  \n",
       "1  0.379157  0.316693  0.193333 -0.008684 -0.307117  \n",
       "2  0.341893  0.270430  0.140535 -0.063779 -0.358497  \n",
       "3  0.351041  0.282968  0.149842 -0.066760 -0.385260  \n",
       "4  0.341704  0.274615  0.149738 -0.049007 -0.337702  \n",
       "\n",
       "[5 rows x 527 columns]"
      ]
     },
     "execution_count": 8,
     "metadata": {},
     "output_type": "execute_result"
    }
   ],
   "source": [
    "datos_add.head()"
   ]
  },
  {
   "cell_type": "code",
   "execution_count": 9,
   "metadata": {},
   "outputs": [
    {
     "name": "stdout",
     "output_type": "stream",
     "text": [
      "32\n",
      "There are 32 observations and 527 features\n"
     ]
    }
   ],
   "source": [
    "nfilas_datos_add = datos_add.shape[0]\n",
    "print(nfilas_datos_add)\n",
    "print(f'There are {datos_add.shape[0]} observations and {datos_add.shape[1]} features')"
   ]
  },
  {
   "cell_type": "code",
   "execution_count": 10,
   "metadata": {},
   "outputs": [
    {
     "data": {
      "text/html": [
       "<div>\n",
       "<style scoped>\n",
       "    .dataframe tbody tr th:only-of-type {\n",
       "        vertical-align: middle;\n",
       "    }\n",
       "\n",
       "    .dataframe tbody tr th {\n",
       "        vertical-align: top;\n",
       "    }\n",
       "\n",
       "    .dataframe thead th {\n",
       "        text-align: right;\n",
       "    }\n",
       "</style>\n",
       "<table border=\"1\" class=\"dataframe\">\n",
       "  <thead>\n",
       "    <tr style=\"text-align: right;\">\n",
       "      <th></th>\n",
       "      <th>0</th>\n",
       "      <th>1</th>\n",
       "      <th>2</th>\n",
       "      <th>3</th>\n",
       "      <th>4</th>\n",
       "    </tr>\n",
       "  </thead>\n",
       "  <tbody>\n",
       "    <tr>\n",
       "      <th>0</th>\n",
       "      <td>Experimento-2017-03-06 22-41-24</td>\n",
       "      <td>0</td>\n",
       "      <td>0</td>\n",
       "      <td>NaN</td>\n",
       "      <td>NaN</td>\n",
       "    </tr>\n",
       "    <tr>\n",
       "      <th>1</th>\n",
       "      <td>Experimento-2017-03-06 22-46-23</td>\n",
       "      <td>0</td>\n",
       "      <td>0</td>\n",
       "      <td>NaN</td>\n",
       "      <td>NaN</td>\n",
       "    </tr>\n",
       "    <tr>\n",
       "      <th>2</th>\n",
       "      <td>Experimento-2017-03-06 22-53-36</td>\n",
       "      <td>0</td>\n",
       "      <td>0</td>\n",
       "      <td>NaN</td>\n",
       "      <td>NaN</td>\n",
       "    </tr>\n",
       "    <tr>\n",
       "      <th>3</th>\n",
       "      <td>Experimento-2017-03-06 22-59-21</td>\n",
       "      <td>0</td>\n",
       "      <td>0</td>\n",
       "      <td>NaN</td>\n",
       "      <td>NaN</td>\n",
       "    </tr>\n",
       "    <tr>\n",
       "      <th>4</th>\n",
       "      <td>Experimento-2017-03-06 23-04-04</td>\n",
       "      <td>0</td>\n",
       "      <td>0</td>\n",
       "      <td>NaN</td>\n",
       "      <td>NaN</td>\n",
       "    </tr>\n",
       "    <tr>\n",
       "      <th>5</th>\n",
       "      <td>Experimento-2017-03-06 23-09-25</td>\n",
       "      <td>0</td>\n",
       "      <td>0</td>\n",
       "      <td>NaN</td>\n",
       "      <td>NaN</td>\n",
       "    </tr>\n",
       "    <tr>\n",
       "      <th>6</th>\n",
       "      <td>Experimento-2017-03-15 16-59-58</td>\n",
       "      <td>0</td>\n",
       "      <td>0</td>\n",
       "      <td>NaN</td>\n",
       "      <td>NaN</td>\n",
       "    </tr>\n",
       "    <tr>\n",
       "      <th>7</th>\n",
       "      <td>Experimento-2017-03-15 17-04-41</td>\n",
       "      <td>0</td>\n",
       "      <td>0</td>\n",
       "      <td>NaN</td>\n",
       "      <td>NaN</td>\n",
       "    </tr>\n",
       "    <tr>\n",
       "      <th>9</th>\n",
       "      <td>Experimento-2017-03-15 17-13-02</td>\n",
       "      <td>0</td>\n",
       "      <td>0</td>\n",
       "      <td>NaN</td>\n",
       "      <td>NaN</td>\n",
       "    </tr>\n",
       "    <tr>\n",
       "      <th>10</th>\n",
       "      <td>Experimento-2017-03-15 17-16-37</td>\n",
       "      <td>0</td>\n",
       "      <td>0</td>\n",
       "      <td>NaN</td>\n",
       "      <td>NaN</td>\n",
       "    </tr>\n",
       "    <tr>\n",
       "      <th>11</th>\n",
       "      <td>Experimento-2017-03-15 17-26-58</td>\n",
       "      <td>0</td>\n",
       "      <td>0</td>\n",
       "      <td>NaN</td>\n",
       "      <td>NaN</td>\n",
       "    </tr>\n",
       "    <tr>\n",
       "      <th>12</th>\n",
       "      <td>Experimento-2017-03-20 16-50-08</td>\n",
       "      <td>0</td>\n",
       "      <td>0</td>\n",
       "      <td>NaN</td>\n",
       "      <td>NaN</td>\n",
       "    </tr>\n",
       "    <tr>\n",
       "      <th>13</th>\n",
       "      <td>Experimento-2017-03-20 17-16-05</td>\n",
       "      <td>0</td>\n",
       "      <td>0</td>\n",
       "      <td>NaN</td>\n",
       "      <td>NaN</td>\n",
       "    </tr>\n",
       "    <tr>\n",
       "      <th>14</th>\n",
       "      <td>Experimento-2017-03-22 17-20-08</td>\n",
       "      <td>2</td>\n",
       "      <td>1</td>\n",
       "      <td>NaN</td>\n",
       "      <td>NaN</td>\n",
       "    </tr>\n",
       "    <tr>\n",
       "      <th>15</th>\n",
       "      <td>Experimento-2017-03-22 17-55-49</td>\n",
       "      <td>1</td>\n",
       "      <td>1</td>\n",
       "      <td>NaN</td>\n",
       "      <td>NaN</td>\n",
       "    </tr>\n",
       "    <tr>\n",
       "      <th>16</th>\n",
       "      <td>Experimento-2017-03-22 18-02-15</td>\n",
       "      <td>2</td>\n",
       "      <td>1</td>\n",
       "      <td>NaN</td>\n",
       "      <td>NaN</td>\n",
       "    </tr>\n",
       "    <tr>\n",
       "      <th>17</th>\n",
       "      <td>Experimento-2017-03-22 18-03-38</td>\n",
       "      <td>1</td>\n",
       "      <td>1</td>\n",
       "      <td>NaN</td>\n",
       "      <td>NaN</td>\n",
       "    </tr>\n",
       "    <tr>\n",
       "      <th>18</th>\n",
       "      <td>Experimento-2017-03-27 17-12-08</td>\n",
       "      <td>2</td>\n",
       "      <td>1</td>\n",
       "      <td>NaN</td>\n",
       "      <td>NaN</td>\n",
       "    </tr>\n",
       "    <tr>\n",
       "      <th>19</th>\n",
       "      <td>Experimento-2017-03-27 17-29-07</td>\n",
       "      <td>2</td>\n",
       "      <td>1</td>\n",
       "      <td>NaN</td>\n",
       "      <td>NaN</td>\n",
       "    </tr>\n",
       "    <tr>\n",
       "      <th>20</th>\n",
       "      <td>Experimento-2017-03-27 17-35-12</td>\n",
       "      <td>2</td>\n",
       "      <td>1</td>\n",
       "      <td>NaN</td>\n",
       "      <td>NaN</td>\n",
       "    </tr>\n",
       "    <tr>\n",
       "      <th>21</th>\n",
       "      <td>Experimento-2017-03-27 17-46-22</td>\n",
       "      <td>2</td>\n",
       "      <td>1</td>\n",
       "      <td>NaN</td>\n",
       "      <td>NaN</td>\n",
       "    </tr>\n",
       "    <tr>\n",
       "      <th>22</th>\n",
       "      <td>Experimento-2017-03-27 18-03-23</td>\n",
       "      <td>0</td>\n",
       "      <td>0</td>\n",
       "      <td>NaN</td>\n",
       "      <td>NaN</td>\n",
       "    </tr>\n",
       "    <tr>\n",
       "      <th>23</th>\n",
       "      <td>Experimento-2017-03-27 18-12-37</td>\n",
       "      <td>0</td>\n",
       "      <td>0</td>\n",
       "      <td>NaN</td>\n",
       "      <td>NaN</td>\n",
       "    </tr>\n",
       "    <tr>\n",
       "      <th>24</th>\n",
       "      <td>Experimento-2017-03-29 18-32-33</td>\n",
       "      <td>0</td>\n",
       "      <td>0</td>\n",
       "      <td>NaN</td>\n",
       "      <td>NaN</td>\n",
       "    </tr>\n",
       "    <tr>\n",
       "      <th>27</th>\n",
       "      <td>Experimento-2017-03-31 18-26-26</td>\n",
       "      <td>2</td>\n",
       "      <td>1</td>\n",
       "      <td>NaN</td>\n",
       "      <td>NaN</td>\n",
       "    </tr>\n",
       "    <tr>\n",
       "      <th>28</th>\n",
       "      <td>Experimento-2017-03-31 18-30-36</td>\n",
       "      <td>2</td>\n",
       "      <td>1</td>\n",
       "      <td>NaN</td>\n",
       "      <td>NaN</td>\n",
       "    </tr>\n",
       "    <tr>\n",
       "      <th>29</th>\n",
       "      <td>Experimento-2017-03-31 18-36-00</td>\n",
       "      <td>2</td>\n",
       "      <td>1</td>\n",
       "      <td>NaN</td>\n",
       "      <td>NaN</td>\n",
       "    </tr>\n",
       "  </tbody>\n",
       "</table>\n",
       "</div>"
      ],
      "text/plain": [
       "                                  0  1  2   3   4\n",
       "0   Experimento-2017-03-06 22-41-24  0  0 NaN NaN\n",
       "1   Experimento-2017-03-06 22-46-23  0  0 NaN NaN\n",
       "2   Experimento-2017-03-06 22-53-36  0  0 NaN NaN\n",
       "3   Experimento-2017-03-06 22-59-21  0  0 NaN NaN\n",
       "4   Experimento-2017-03-06 23-04-04  0  0 NaN NaN\n",
       "5   Experimento-2017-03-06 23-09-25  0  0 NaN NaN\n",
       "6   Experimento-2017-03-15 16-59-58  0  0 NaN NaN\n",
       "7   Experimento-2017-03-15 17-04-41  0  0 NaN NaN\n",
       "9   Experimento-2017-03-15 17-13-02  0  0 NaN NaN\n",
       "10  Experimento-2017-03-15 17-16-37  0  0 NaN NaN\n",
       "11  Experimento-2017-03-15 17-26-58  0  0 NaN NaN\n",
       "12  Experimento-2017-03-20 16-50-08  0  0 NaN NaN\n",
       "13  Experimento-2017-03-20 17-16-05  0  0 NaN NaN\n",
       "14  Experimento-2017-03-22 17-20-08  2  1 NaN NaN\n",
       "15  Experimento-2017-03-22 17-55-49  1  1 NaN NaN\n",
       "16  Experimento-2017-03-22 18-02-15  2  1 NaN NaN\n",
       "17  Experimento-2017-03-22 18-03-38  1  1 NaN NaN\n",
       "18  Experimento-2017-03-27 17-12-08  2  1 NaN NaN\n",
       "19  Experimento-2017-03-27 17-29-07  2  1 NaN NaN\n",
       "20  Experimento-2017-03-27 17-35-12  2  1 NaN NaN\n",
       "21  Experimento-2017-03-27 17-46-22  2  1 NaN NaN\n",
       "22  Experimento-2017-03-27 18-03-23  0  0 NaN NaN\n",
       "23  Experimento-2017-03-27 18-12-37  0  0 NaN NaN\n",
       "24  Experimento-2017-03-29 18-32-33  0  0 NaN NaN\n",
       "27  Experimento-2017-03-31 18-26-26  2  1 NaN NaN\n",
       "28  Experimento-2017-03-31 18-30-36  2  1 NaN NaN\n",
       "29  Experimento-2017-03-31 18-36-00  2  1 NaN NaN"
      ]
     },
     "execution_count": 10,
     "metadata": {},
     "output_type": "execute_result"
    }
   ],
   "source": [
    "datos1= datos[datos[6]!=1]\n",
    "datos1.iloc[0:27,0:5]"
   ]
  },
  {
   "cell_type": "code",
   "execution_count": 11,
   "metadata": {},
   "outputs": [
    {
     "data": {
      "text/html": [
       "<div>\n",
       "<style scoped>\n",
       "    .dataframe tbody tr th:only-of-type {\n",
       "        vertical-align: middle;\n",
       "    }\n",
       "\n",
       "    .dataframe tbody tr th {\n",
       "        vertical-align: top;\n",
       "    }\n",
       "\n",
       "    .dataframe thead th {\n",
       "        text-align: right;\n",
       "    }\n",
       "</style>\n",
       "<table border=\"1\" class=\"dataframe\">\n",
       "  <thead>\n",
       "    <tr style=\"text-align: right;\">\n",
       "      <th></th>\n",
       "      <th>0</th>\n",
       "      <th>1</th>\n",
       "      <th>2</th>\n",
       "      <th>3</th>\n",
       "      <th>4</th>\n",
       "    </tr>\n",
       "  </thead>\n",
       "  <tbody>\n",
       "    <tr>\n",
       "      <th>0</th>\n",
       "      <td>Experimento-2017-03-06 22-41-24</td>\n",
       "      <td>0</td>\n",
       "      <td>0</td>\n",
       "      <td>NaN</td>\n",
       "      <td>NaN</td>\n",
       "    </tr>\n",
       "    <tr>\n",
       "      <th>1</th>\n",
       "      <td>Experimento-2017-03-06 22-46-23</td>\n",
       "      <td>0</td>\n",
       "      <td>0</td>\n",
       "      <td>NaN</td>\n",
       "      <td>NaN</td>\n",
       "    </tr>\n",
       "    <tr>\n",
       "      <th>2</th>\n",
       "      <td>Experimento-2017-03-06 22-53-36</td>\n",
       "      <td>0</td>\n",
       "      <td>0</td>\n",
       "      <td>NaN</td>\n",
       "      <td>NaN</td>\n",
       "    </tr>\n",
       "    <tr>\n",
       "      <th>3</th>\n",
       "      <td>Experimento-2017-03-06 22-59-21</td>\n",
       "      <td>0</td>\n",
       "      <td>0</td>\n",
       "      <td>NaN</td>\n",
       "      <td>NaN</td>\n",
       "    </tr>\n",
       "    <tr>\n",
       "      <th>4</th>\n",
       "      <td>Experimento-2017-03-06 23-04-04</td>\n",
       "      <td>0</td>\n",
       "      <td>0</td>\n",
       "      <td>NaN</td>\n",
       "      <td>NaN</td>\n",
       "    </tr>\n",
       "    <tr>\n",
       "      <th>5</th>\n",
       "      <td>Experimento-2017-03-06 23-09-25</td>\n",
       "      <td>0</td>\n",
       "      <td>0</td>\n",
       "      <td>NaN</td>\n",
       "      <td>NaN</td>\n",
       "    </tr>\n",
       "    <tr>\n",
       "      <th>6</th>\n",
       "      <td>Experimento-2017-03-15 16-59-58</td>\n",
       "      <td>0</td>\n",
       "      <td>0</td>\n",
       "      <td>NaN</td>\n",
       "      <td>NaN</td>\n",
       "    </tr>\n",
       "    <tr>\n",
       "      <th>7</th>\n",
       "      <td>Experimento-2017-03-15 17-04-41</td>\n",
       "      <td>0</td>\n",
       "      <td>0</td>\n",
       "      <td>NaN</td>\n",
       "      <td>NaN</td>\n",
       "    </tr>\n",
       "    <tr>\n",
       "      <th>8</th>\n",
       "      <td>Experimento-2017-03-15 17-13-02</td>\n",
       "      <td>0</td>\n",
       "      <td>0</td>\n",
       "      <td>NaN</td>\n",
       "      <td>NaN</td>\n",
       "    </tr>\n",
       "    <tr>\n",
       "      <th>9</th>\n",
       "      <td>Experimento-2017-03-15 17-16-37</td>\n",
       "      <td>0</td>\n",
       "      <td>0</td>\n",
       "      <td>NaN</td>\n",
       "      <td>NaN</td>\n",
       "    </tr>\n",
       "    <tr>\n",
       "      <th>10</th>\n",
       "      <td>Experimento-2017-03-15 17-26-58</td>\n",
       "      <td>0</td>\n",
       "      <td>0</td>\n",
       "      <td>NaN</td>\n",
       "      <td>NaN</td>\n",
       "    </tr>\n",
       "    <tr>\n",
       "      <th>11</th>\n",
       "      <td>Experimento-2017-03-20 16-50-08</td>\n",
       "      <td>0</td>\n",
       "      <td>0</td>\n",
       "      <td>NaN</td>\n",
       "      <td>NaN</td>\n",
       "    </tr>\n",
       "    <tr>\n",
       "      <th>12</th>\n",
       "      <td>Experimento-2017-03-20 17-16-05</td>\n",
       "      <td>0</td>\n",
       "      <td>0</td>\n",
       "      <td>NaN</td>\n",
       "      <td>NaN</td>\n",
       "    </tr>\n",
       "    <tr>\n",
       "      <th>13</th>\n",
       "      <td>Experimento-2017-03-22 17-20-08</td>\n",
       "      <td>2</td>\n",
       "      <td>1</td>\n",
       "      <td>NaN</td>\n",
       "      <td>NaN</td>\n",
       "    </tr>\n",
       "    <tr>\n",
       "      <th>14</th>\n",
       "      <td>Experimento-2017-03-22 17-55-49</td>\n",
       "      <td>1</td>\n",
       "      <td>1</td>\n",
       "      <td>NaN</td>\n",
       "      <td>NaN</td>\n",
       "    </tr>\n",
       "    <tr>\n",
       "      <th>15</th>\n",
       "      <td>Experimento-2017-03-22 18-02-15</td>\n",
       "      <td>2</td>\n",
       "      <td>1</td>\n",
       "      <td>NaN</td>\n",
       "      <td>NaN</td>\n",
       "    </tr>\n",
       "    <tr>\n",
       "      <th>16</th>\n",
       "      <td>Experimento-2017-03-22 18-03-38</td>\n",
       "      <td>1</td>\n",
       "      <td>1</td>\n",
       "      <td>NaN</td>\n",
       "      <td>NaN</td>\n",
       "    </tr>\n",
       "    <tr>\n",
       "      <th>17</th>\n",
       "      <td>Experimento-2017-03-27 17-12-08</td>\n",
       "      <td>2</td>\n",
       "      <td>1</td>\n",
       "      <td>NaN</td>\n",
       "      <td>NaN</td>\n",
       "    </tr>\n",
       "    <tr>\n",
       "      <th>18</th>\n",
       "      <td>Experimento-2017-03-27 17-29-07</td>\n",
       "      <td>2</td>\n",
       "      <td>1</td>\n",
       "      <td>NaN</td>\n",
       "      <td>NaN</td>\n",
       "    </tr>\n",
       "    <tr>\n",
       "      <th>19</th>\n",
       "      <td>Experimento-2017-03-27 17-35-12</td>\n",
       "      <td>2</td>\n",
       "      <td>1</td>\n",
       "      <td>NaN</td>\n",
       "      <td>NaN</td>\n",
       "    </tr>\n",
       "    <tr>\n",
       "      <th>20</th>\n",
       "      <td>Experimento-2017-03-27 17-46-22</td>\n",
       "      <td>2</td>\n",
       "      <td>1</td>\n",
       "      <td>NaN</td>\n",
       "      <td>NaN</td>\n",
       "    </tr>\n",
       "    <tr>\n",
       "      <th>21</th>\n",
       "      <td>Experimento-2017-03-27 18-03-23</td>\n",
       "      <td>0</td>\n",
       "      <td>0</td>\n",
       "      <td>NaN</td>\n",
       "      <td>NaN</td>\n",
       "    </tr>\n",
       "    <tr>\n",
       "      <th>22</th>\n",
       "      <td>Experimento-2017-03-27 18-12-37</td>\n",
       "      <td>0</td>\n",
       "      <td>0</td>\n",
       "      <td>NaN</td>\n",
       "      <td>NaN</td>\n",
       "    </tr>\n",
       "    <tr>\n",
       "      <th>23</th>\n",
       "      <td>Experimento-2017-03-29 18-32-33</td>\n",
       "      <td>0</td>\n",
       "      <td>0</td>\n",
       "      <td>NaN</td>\n",
       "      <td>NaN</td>\n",
       "    </tr>\n",
       "    <tr>\n",
       "      <th>24</th>\n",
       "      <td>Experimento-2017-03-31 18-26-26</td>\n",
       "      <td>2</td>\n",
       "      <td>1</td>\n",
       "      <td>NaN</td>\n",
       "      <td>NaN</td>\n",
       "    </tr>\n",
       "    <tr>\n",
       "      <th>25</th>\n",
       "      <td>Experimento-2017-03-31 18-30-36</td>\n",
       "      <td>2</td>\n",
       "      <td>1</td>\n",
       "      <td>NaN</td>\n",
       "      <td>NaN</td>\n",
       "    </tr>\n",
       "    <tr>\n",
       "      <th>26</th>\n",
       "      <td>Experimento-2017-03-31 18-36-00</td>\n",
       "      <td>2</td>\n",
       "      <td>1</td>\n",
       "      <td>NaN</td>\n",
       "      <td>NaN</td>\n",
       "    </tr>\n",
       "  </tbody>\n",
       "</table>\n",
       "</div>"
      ],
      "text/plain": [
       "                                  0  1  2   3   4\n",
       "0   Experimento-2017-03-06 22-41-24  0  0 NaN NaN\n",
       "1   Experimento-2017-03-06 22-46-23  0  0 NaN NaN\n",
       "2   Experimento-2017-03-06 22-53-36  0  0 NaN NaN\n",
       "3   Experimento-2017-03-06 22-59-21  0  0 NaN NaN\n",
       "4   Experimento-2017-03-06 23-04-04  0  0 NaN NaN\n",
       "5   Experimento-2017-03-06 23-09-25  0  0 NaN NaN\n",
       "6   Experimento-2017-03-15 16-59-58  0  0 NaN NaN\n",
       "7   Experimento-2017-03-15 17-04-41  0  0 NaN NaN\n",
       "8   Experimento-2017-03-15 17-13-02  0  0 NaN NaN\n",
       "9   Experimento-2017-03-15 17-16-37  0  0 NaN NaN\n",
       "10  Experimento-2017-03-15 17-26-58  0  0 NaN NaN\n",
       "11  Experimento-2017-03-20 16-50-08  0  0 NaN NaN\n",
       "12  Experimento-2017-03-20 17-16-05  0  0 NaN NaN\n",
       "13  Experimento-2017-03-22 17-20-08  2  1 NaN NaN\n",
       "14  Experimento-2017-03-22 17-55-49  1  1 NaN NaN\n",
       "15  Experimento-2017-03-22 18-02-15  2  1 NaN NaN\n",
       "16  Experimento-2017-03-22 18-03-38  1  1 NaN NaN\n",
       "17  Experimento-2017-03-27 17-12-08  2  1 NaN NaN\n",
       "18  Experimento-2017-03-27 17-29-07  2  1 NaN NaN\n",
       "19  Experimento-2017-03-27 17-35-12  2  1 NaN NaN\n",
       "20  Experimento-2017-03-27 17-46-22  2  1 NaN NaN\n",
       "21  Experimento-2017-03-27 18-03-23  0  0 NaN NaN\n",
       "22  Experimento-2017-03-27 18-12-37  0  0 NaN NaN\n",
       "23  Experimento-2017-03-29 18-32-33  0  0 NaN NaN\n",
       "24  Experimento-2017-03-31 18-26-26  2  1 NaN NaN\n",
       "25  Experimento-2017-03-31 18-30-36  2  1 NaN NaN\n",
       "26  Experimento-2017-03-31 18-36-00  2  1 NaN NaN"
      ]
     },
     "execution_count": 11,
     "metadata": {},
     "output_type": "execute_result"
    }
   ],
   "source": [
    "datos1.reset_index(drop=True, inplace=True)\n",
    "datos1.iloc[0:27,0:5]"
   ]
  },
  {
   "cell_type": "code",
   "execution_count": 12,
   "metadata": {},
   "outputs": [
    {
     "name": "stdout",
     "output_type": "stream",
     "text": [
      "There are 104 observations and 527 features\n"
     ]
    }
   ],
   "source": [
    "print(f'There are {datos1.shape[0]} observations and {datos1.shape[1]} features')"
   ]
  },
  {
   "cell_type": "code",
   "execution_count": 13,
   "metadata": {},
   "outputs": [
    {
     "name": "stdout",
     "output_type": "stream",
     "text": [
      "104\n",
      "There are 104 observations and 527 features\n"
     ]
    }
   ],
   "source": [
    "#datos2=datos1.drop([8,25,39,40,44],axis=0)\n",
    "datos2b = datos1.copy()\n",
    "nfilas_datos2b  = datos2b.shape[0]\n",
    "print(nfilas_datos2b)\n",
    "print(f'There are {datos2b.shape[0]} observations and {datos2b.shape[1]} features')"
   ]
  },
  {
   "cell_type": "code",
   "execution_count": 14,
   "metadata": {},
   "outputs": [
    {
     "name": "stdout",
     "output_type": "stream",
     "text": [
      "There are 136 observations and 527 features\n"
     ]
    }
   ],
   "source": [
    "### preparación de datos escalados (estandarizados)\n",
    "datos3=datos2b.append(datos_add, ignore_index=True)\n",
    "datos3.reset_index(drop=True, inplace=True)\n",
    "print(f'There are {datos3.shape[0]} observations and {datos3.shape[1]} features')\n",
    "datos3_X =datos3.iloc[:,7:]\n",
    "datos3X_est = pd.DataFrame(stats.zscore(datos3_X, axis=1))\n",
    "datos3_Y = datos3.iloc[:,2]"
   ]
  },
  {
   "cell_type": "code",
   "execution_count": 15,
   "metadata": {},
   "outputs": [
    {
     "name": "stdout",
     "output_type": "stream",
     "text": [
      "There are 104 observations and 520 features\n"
     ]
    }
   ],
   "source": [
    "train3_X = datos3X_est.iloc[:nfilas_datos2b,:]\n",
    "print(f'There are {train3_X.shape[0]} observations and {train3_X.shape[1]} features')"
   ]
  },
  {
   "cell_type": "code",
   "execution_count": 16,
   "metadata": {},
   "outputs": [
    {
     "data": {
      "text/plain": [
       "0      0\n",
       "1      0\n",
       "2      0\n",
       "3      0\n",
       "4      0\n",
       "      ..\n",
       "99     1\n",
       "100    1\n",
       "101    1\n",
       "102    1\n",
       "103    1\n",
       "Name: 2, Length: 104, dtype: int64"
      ]
     },
     "execution_count": 16,
     "metadata": {},
     "output_type": "execute_result"
    }
   ],
   "source": [
    "train3_Y = datos3_Y[:nfilas_datos2b]\n",
    "len(train3_Y)\n",
    "#train3_Y1 = train3_Y.replace(to_replace=0,value=-1)\n",
    "train3_Y"
   ]
  },
  {
   "cell_type": "code",
   "execution_count": 17,
   "metadata": {},
   "outputs": [
    {
     "name": "stdout",
     "output_type": "stream",
     "text": [
      "There are 32 observations and 520 features\n"
     ]
    }
   ],
   "source": [
    "test3_X = datos3X_est.iloc[nfilas_datos2b:,:]\n",
    "print(f'There are {test3_X.shape[0]} observations and {test3_X.shape[1]} features')\n",
    "test3_Y = datos_add.iloc[:,2]\n",
    "#test3_Y1=  test3_Y.replace(to_replace=0,value=-1)\n",
    "#test3_Y"
   ]
  },
  {
   "cell_type": "code",
   "execution_count": 18,
   "metadata": {},
   "outputs": [
    {
     "name": "stdout",
     "output_type": "stream",
     "text": [
      "RangeIndex(start=0, stop=520, step=1)\n"
     ]
    }
   ],
   "source": [
    "#train_X= datos2b.iloc[:,7:] #datos sin escalar\n",
    "train_X =  train3_X #datos escalados\n",
    "print(train_X.keys())"
   ]
  },
  {
   "cell_type": "code",
   "execution_count": 19,
   "metadata": {},
   "outputs": [
    {
     "name": "stdout",
     "output_type": "stream",
     "text": [
      "There are 104 observations and 520 features\n"
     ]
    }
   ],
   "source": [
    "#train_Y = datos2b.iloc[:,2]\n",
    "train_Y = train3_Y\n",
    "len(train_Y)\n",
    "print(f'There are {train_X.shape[0]} observations and {train_X.shape[1]} features')"
   ]
  },
  {
   "cell_type": "code",
   "execution_count": 20,
   "metadata": {},
   "outputs": [
    {
     "name": "stdout",
     "output_type": "stream",
     "text": [
      "There are 32 observations and 520 features\n"
     ]
    }
   ],
   "source": [
    "#test_X= datos_add.iloc[:,7:]\n",
    "test_X = test3_X\n",
    "print(f'There are {test_X.shape[0]} observations and {test_X.shape[1]} features')"
   ]
  },
  {
   "cell_type": "code",
   "execution_count": 21,
   "metadata": {},
   "outputs": [
    {
     "data": {
      "text/plain": [
       "32"
      ]
     },
     "execution_count": 21,
     "metadata": {},
     "output_type": "execute_result"
    }
   ],
   "source": [
    "#test_Y = datos_add.iloc[:,2]\n",
    "test_Y = test3_Y\n",
    "len(test_Y)"
   ]
  },
  {
   "cell_type": "code",
   "execution_count": null,
   "metadata": {},
   "outputs": [],
   "source": []
  },
  {
   "cell_type": "code",
   "execution_count": 22,
   "metadata": {},
   "outputs": [
    {
     "name": "stdout",
     "output_type": "stream",
     "text": [
      "520\n"
     ]
    }
   ],
   "source": [
    "# determine the number of input features\n",
    "n_features = train_X.shape[1]\n",
    "print(n_features)"
   ]
  },
  {
   "cell_type": "code",
   "execution_count": 23,
   "metadata": {},
   "outputs": [
    {
     "name": "stdout",
     "output_type": "stream",
     "text": [
      "Model: \"sequential\"\n",
      "_________________________________________________________________\n",
      "Layer (type)                 Output Shape              Param #   \n",
      "=================================================================\n",
      "dense (Dense)                (None, 64)                33344     \n",
      "_________________________________________________________________\n",
      "dense_1 (Dense)              (None, 8)                 520       \n",
      "_________________________________________________________________\n",
      "dense_2 (Dense)              (None, 1)                 9         \n",
      "=================================================================\n",
      "Total params: 33,873\n",
      "Trainable params: 33,873\n",
      "Non-trainable params: 0\n",
      "_________________________________________________________________\n"
     ]
    }
   ],
   "source": [
    "# define model\n",
    "model = Sequential()\n",
    "model.add(Dense(64, activation='relu', kernel_initializer='he_normal', input_shape=(n_features,)))\n",
    "#model.add(Dense(22, activation='leakyrelu', kernel_initializer='he_normal', input_shape=(n_features,)))\n",
    "model.add(Dense(8, activation='relu', kernel_initializer='he_normal'))\n",
    "model.add(Dense(1, activation='sigmoid'))\n",
    "# summarize the model\n",
    "model.summary()"
   ]
  },
  {
   "cell_type": "code",
   "execution_count": 24,
   "metadata": {},
   "outputs": [
    {
     "data": {
      "image/png": "[encoded data removed]",
      "text/plain": [
       "<IPython.core.display.Image object>"
      ]
     },
     "execution_count": 24,
     "metadata": {},
     "output_type": "execute_result"
    }
   ],
   "source": [
    "# plot summarize the model\n",
    "plot_model(model, 'model.png', show_shapes=True)"
   ]
  },
  {
   "cell_type": "code",
   "execution_count": 25,
   "metadata": {},
   "outputs": [],
   "source": [
    "# compile the model\n",
    "model.compile(optimizer='adam', loss='binary_crossentropy', metrics=['accuracy'])\n",
    "#sgd = SGD(learning_rate=0.01, momentum=0.8)\n",
    "#model.compile(optimizer='SGD', loss='binary_crossentropy', metrics=['accuracy'] )\n"
   ]
  },
  {
   "cell_type": "code",
   "execution_count": 26,
   "metadata": {},
   "outputs": [],
   "source": [
    "# fit the model\n",
    "logs = Callback()\n",
    "history = model.fit(train_X, train_Y, epochs=400, batch_size=20, verbose=0, validation_split = 0.3,shuffle= True)\n",
    "#model.fit(train_X, train_Y, epochs=150, batch_size=30, verbose=0, validation_split=0.3)"
   ]
  },
  {
   "cell_type": "code",
   "execution_count": null,
   "metadata": {},
   "outputs": [],
   "source": [
    "# evaluate the model\n",
    "loss, acc = model.evaluate(train_X, train_Y, verbose=0)\n",
    "print('Test Accuracy: %.3f' % acc)\n"
   ]
  },
  {
   "cell_type": "code",
   "execution_count": null,
   "metadata": {},
   "outputs": [],
   "source": [
    "# predict probabilities for train set\n",
    "ytrain_probs = model.predict(train_X, verbose=0)\n",
    "# predict crisp classes for train set\n",
    "ytrain_classes = model.predict_classes(train_X, verbose=0)"
   ]
  },
  {
   "cell_type": "code",
   "execution_count": null,
   "metadata": {},
   "outputs": [],
   "source": [
    "len(ytrain_probs)"
   ]
  },
  {
   "cell_type": "code",
   "execution_count": null,
   "metadata": {},
   "outputs": [],
   "source": [
    "ytr_probs = list()\n",
    "for k in range(len(ytrain_probs)):\n",
    "    ytr_probs.append(ytrain_probs[k][0])\n",
    "    \n",
    "#ytr_probs\n"
   ]
  },
  {
   "cell_type": "code",
   "execution_count": null,
   "metadata": {},
   "outputs": [],
   "source": [
    "sev=datos2b[1]\n",
    "severity = list()\n",
    "for k in range(len(sev)):\n",
    "    if (sev[k]==0):\n",
    "        severity.append(\"Healthy\")\n",
    "    else:\n",
    "        if (sev[k]==1):\n",
    "            severity.append(\"Pre-symp\")\n",
    "        else:\n",
    "            if (sev[k]==2):\n",
    "                severity.append(\"Sev 1\")\n",
    "            else:\n",
    "                severity.append(\"Sev 2\")\n",
    "    "
   ]
  },
  {
   "cell_type": "code",
   "execution_count": null,
   "metadata": {},
   "outputs": [],
   "source": [
    "len(severity)"
   ]
  },
  {
   "cell_type": "code",
   "execution_count": null,
   "metadata": {},
   "outputs": [],
   "source": [
    "x=list(range(1,105))"
   ]
  },
  {
   "cell_type": "code",
   "execution_count": null,
   "metadata": {},
   "outputs": [],
   "source": [
    "df = pd.DataFrame({\"Leaves\":x, \"Y probability\":ytr_probs, 'Severity':severity})"
   ]
  },
  {
   "cell_type": "code",
   "execution_count": null,
   "metadata": {},
   "outputs": [],
   "source": [
    "g = ggplot(df) + geom_point(aes(x=\"Leaves\", y=\"Y probability\", colour = 'Severity'),size=2) + \\\n",
    "scale_colour_manual(values=[\"green\",\"turquoise\",\"blue\", \"red\"], limits=[\"Healthy\", \"Pre-symp\", \"Sev 1\", \"Sev 2\"]) + \\\n",
    "geom_hline(yintercept=0.5, linetype=\"dashed\", color = \"red\", size=0.7)+ guides(color = guide_legend(order=1))\n",
    "print(g)"
   ]
  },
  {
   "cell_type": "code",
   "execution_count": null,
   "metadata": {},
   "outputs": [],
   "source": [
    "g.save(\"D:/ugarte/usal/RIP/estudio doctoral/ACADEMICO USAL/tesis/figuras/figura_ann1_prob1.png\")"
   ]
  },
  {
   "cell_type": "code",
   "execution_count": null,
   "metadata": {},
   "outputs": [],
   "source": [
    "print(classification_report(train_Y, ytrain_classes))"
   ]
  },
  {
   "cell_type": "code",
   "execution_count": null,
   "metadata": {},
   "outputs": [],
   "source": [
    "#ytrain_probs"
   ]
  },
  {
   "cell_type": "code",
   "execution_count": null,
   "metadata": {},
   "outputs": [],
   "source": [
    "c_matrix_cv=confusion_matrix(train_Y, ytrain_classes)"
   ]
  },
  {
   "cell_type": "code",
   "execution_count": null,
   "metadata": {},
   "outputs": [],
   "source": [
    "print(c_matrix_cv)"
   ]
  },
  {
   "cell_type": "code",
   "execution_count": null,
   "metadata": {},
   "outputs": [],
   "source": [
    "#plt.imshow(c_matrix_cv, cmap='binary')\n",
    "#plt.matshow(c_matrix_cv)\n",
    "plt.figure(figsize = (10,7))\n",
    "sns.heatmap(c_matrix_cv, annot=True,annot_kws={\"size\": 16},linewidth = 0.5, cmap=\"Blues\")\n",
    "plt.ylabel('True Label', size = 12)\n",
    "plt.xlabel('Predicted Label', size = 12)"
   ]
  },
  {
   "cell_type": "code",
   "execution_count": null,
   "metadata": {},
   "outputs": [],
   "source": [
    "\n",
    "np.set_printoptions(precision=2)\n",
    "class_names = np.array(('healthy', 'infected'))\n",
    "class_names\n"
   ]
  },
  {
   "cell_type": "code",
   "execution_count": null,
   "metadata": {},
   "outputs": [],
   "source": [
    "# Plot non-normalized confusion matrix\n",
    "plot_confusion_matrix(train_Y, ytrain_classes, classes=class_names,\n",
    "                      title='Confusion matrix, without normalization')\n"
   ]
  },
  {
   "cell_type": "code",
   "execution_count": null,
   "metadata": {},
   "outputs": [],
   "source": [
    "# accuracy: (tp + tn) / (p + n)\n",
    "accuracy = accuracy_score(train_Y, ytrain_classes)\n",
    "print('Accuracy: %f' % accuracy)\n",
    "# precision tp / (tp + fp)\n",
    "precision = precision_score(train_Y, ytrain_classes)\n",
    "print('Precision: %f' % precision)\n",
    "# recall: tp / (tp + fn)\n",
    "recall = recall_score(train_Y, ytrain_classes)\n",
    "print('Recall: %f' % recall)\n",
    "# f1: 2 tp / (2 tp + fp + fn)\n",
    "f1 = f1_score(train_Y, ytrain_classes)\n",
    "print('F1 score: %f' % f1)"
   ]
  },
  {
   "cell_type": "markdown",
   "metadata": {},
   "source": [
    "### evalua dataset de prueba (validacióne xterna)"
   ]
  },
  {
   "cell_type": "code",
   "execution_count": null,
   "metadata": {},
   "outputs": [],
   "source": [
    "# evaluate the model\n",
    "loss, acc = model.evaluate(test_X, test_Y, verbose=0)\n",
    "print('Test Accuracy: %.3f' % acc)\n"
   ]
  },
  {
   "cell_type": "code",
   "execution_count": null,
   "metadata": {},
   "outputs": [],
   "source": [
    "# predict probabilities for train set\n",
    "ytest_probs = model.predict(test_X, verbose=0)\n",
    "# predict crisp classes for train set\n",
    "ytest_classes = model.predict_classes(test_X, verbose=0)\n",
    "len(ytest_probs)"
   ]
  },
  {
   "cell_type": "code",
   "execution_count": null,
   "metadata": {},
   "outputs": [],
   "source": [
    "yte_probs = list()\n",
    "for k in range(len(ytest_probs)):\n",
    "    yte_probs.append(ytest_probs[k][0])\n",
    "    \n",
    "yte_probs\n"
   ]
  },
  {
   "cell_type": "code",
   "execution_count": null,
   "metadata": {},
   "outputs": [],
   "source": [
    "sev1=datos_add[1]\n",
    "severity = list()\n",
    "for k in range(len(sev1)):\n",
    "    if (sev1[k]==0):\n",
    "        severity.append(\"Healthy\")\n",
    "    else:\n",
    "        if (sev1[k]==1):\n",
    "            severity.append(\"Pre-symp\")\n",
    "        else:\n",
    "            if (sev1[k]==2):\n",
    "                severity.append(\"Sev 1\")\n",
    "            else:\n",
    "                severity.append(\"Sev 2\")\n",
    "    \n",
    "       \n",
    "print(len(severity))\n",
    "x=list(range(1,33))\n",
    "x"
   ]
  },
  {
   "cell_type": "code",
   "execution_count": null,
   "metadata": {},
   "outputs": [],
   "source": [
    "\n",
    "df = pd.DataFrame({\"Leaves\":x, \"Y probability\":yte_probs, 'Severity':severity})\n",
    "\n",
    "g= ggplot(df) + geom_point(aes(x=\"Leaves\", y=\"Y probability\", colour = 'Severity'),size=2) + \\\n",
    "scale_colour_manual(values=[\"green\",\"turquoise\",\"blue\", \"red\"], limits=[\"Healthy\", \"Pre-symp\", \"Sev 1\", \"Sev 2\"]) + \\\n",
    "geom_hline(yintercept=0.5, linetype=\"dashed\", color = \"red\", size=0.7)+ guides(color = guide_legend(order=1))\n",
    "print(g)\n"
   ]
  },
  {
   "cell_type": "code",
   "execution_count": null,
   "metadata": {},
   "outputs": [],
   "source": [
    "g.save(\"D:/ugarte/usal/RIP/estudio doctoral/ACADEMICO USAL/tesis/figuras/figura_ann1_prob2.png\")"
   ]
  },
  {
   "cell_type": "code",
   "execution_count": null,
   "metadata": {},
   "outputs": [],
   "source": [
    "df"
   ]
  },
  {
   "cell_type": "code",
   "execution_count": null,
   "metadata": {},
   "outputs": [],
   "source": [
    "print(classification_report(test_Y, ytest_classes))"
   ]
  },
  {
   "cell_type": "code",
   "execution_count": null,
   "metadata": {},
   "outputs": [],
   "source": [
    "c_matrix_ve=confusion_matrix(test_Y, ytest_classes)\n",
    "print(c_matrix_ve)"
   ]
  },
  {
   "cell_type": "code",
   "execution_count": null,
   "metadata": {},
   "outputs": [],
   "source": [
    "plt.figure(figsize = (10,7))\n",
    "sns.heatmap(c_matrix_ve, annot=True,annot_kws={\"size\": 16},linewidth = 0.5, cmap=\"Oranges\")\n",
    "plt.ylabel('True Label', size = 14)\n",
    "plt.xlabel('Predicted Label', size = 14)"
   ]
  },
  {
   "cell_type": "markdown",
   "metadata": {},
   "source": [
    "### ROC AUC"
   ]
  },
  {
   "cell_type": "code",
   "execution_count": null,
   "metadata": {},
   "outputs": [],
   "source": [
    "auc_MLP1 = roc_auc_score(ytest_classes, test_Y) \n",
    "auc_MLP1"
   ]
  },
  {
   "cell_type": "code",
   "execution_count": null,
   "metadata": {},
   "outputs": [],
   "source": [
    "curve =roc_curve(ytest_classes, test_Y) "
   ]
  },
  {
   "cell_type": "code",
   "execution_count": null,
   "metadata": {},
   "outputs": [],
   "source": [
    "curve"
   ]
  },
  {
   "cell_type": "raw",
   "metadata": {},
   "source": [
    "# make a prediction Test \n",
    "#row = [1,0,0.99539,-0.05889,0.85243,0.02306,0.83398,-0.37708,1,0.03760,0.85243,-0.17755,0.59755,-0.44945,0.60536,-0.38223,0.84356,-0.38542,0.58212,-0.32192,0.56971,-0.29674,0.36946,-0.47357,0.56811,-0.51171,0.41078,-0.46168,0.21266,-0.34090,0.42267,-0.54487,0.18641,-0.45300]\n",
    "#yhat = model.predict([row])\n",
    "#print('Predicted: %.3f' % yhat)"
   ]
  },
  {
   "cell_type": "code",
   "execution_count": null,
   "metadata": {},
   "outputs": [],
   "source": []
  },
  {
   "cell_type": "code",
   "execution_count": null,
   "metadata": {},
   "outputs": [],
   "source": [
    "# list all data in history\n",
    "print(history.history.keys())\n",
    "print(history.history['val_accuracy'])"
   ]
  },
  {
   "cell_type": "code",
   "execution_count": null,
   "metadata": {},
   "outputs": [],
   "source": [
    "# summarize history for accuracy\n",
    "plt.plot(history.history['accuracy'])\n",
    "# plt.plot(history.history['val_accuracy'])\n",
    "plt.title('model accuracy')\n",
    "plt.ylabel('accuracy')\n",
    "plt.xlabel('epoch')\n",
    "plt.legend(['train', 'test'], loc='upper left')\n",
    "plt.show()"
   ]
  },
  {
   "cell_type": "code",
   "execution_count": null,
   "metadata": {},
   "outputs": [],
   "source": [
    "# plot learning curves\n",
    "plt.title('Learning Curves')\n",
    "plt.xlabel('Epoch')\n",
    "plt.ylabel('Cross Entropy')\n",
    "plt.plot(history.history['loss'], label='train')\n",
    "plt.plot(history.history['val_loss'], label='val')\n",
    "plt.legend()\n",
    "plt.show()"
   ]
  },
  {
   "cell_type": "code",
   "execution_count": null,
   "metadata": {},
   "outputs": [],
   "source": [
    "# save model to file\n",
    "model = load_model('model1500.ban')"
   ]
  },
  {
   "cell_type": "code",
   "execution_count": null,
   "metadata": {},
   "outputs": [],
   "source": []
  }
 ],
 "metadata": {
  "kernelspec": {
   "display_name": "Python 3",
   "language": "python",
   "name": "python3"
  },
  "language_info": {
   "codemirror_mode": {
    "name": "ipython",
    "version": 3
   },
   "file_extension": ".py",
   "mimetype": "text/x-python",
   "name": "python",
   "nbconvert_exporter": "python",
   "pygments_lexer": "ipython3",
   "version": "3.7.3"
  }
 },
 "nbformat": 4,
 "nbformat_minor": 2
}
